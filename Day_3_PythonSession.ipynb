{
 "cells": [
  {
   "cell_type": "code",
   "execution_count": null,
   "id": "b1e4c312-5322-4f87-a3b6-8efd900be2fa",
   "metadata": {},
   "outputs": [],
   "source": [
    "Introduction to f strings:"
   ]
  },
  {
   "cell_type": "code",
   "execution_count": null,
   "id": "10005c28-e589-401a-9c44-6d6d83dcfc56",
   "metadata": {},
   "outputs": [],
   "source": [
    "#syntax:  f\"custom_message {placeholder 1} {Placeholder 2}....\""
   ]
  },
  {
   "cell_type": "code",
   "execution_count": 49,
   "id": "2f327576-3864-4067-a679-30b800a5b7d2",
   "metadata": {},
   "outputs": [
    {
     "name": "stdout",
     "output_type": "stream",
     "text": [
      "My name is Mohamed Hidayathulla\n"
     ]
    }
   ],
   "source": [
    "firstname = \"mohamed\"\n",
    "lastname = \"hidayathulla\"\n",
    "fullname = f\"{firstname} {lastname}\"\n",
    "\n",
    "\n",
    "message = f\"My name is {fullname.title()}\"\n",
    "print(message)"
   ]
  },
  {
   "cell_type": "code",
   "execution_count": null,
   "id": "8c8f5940-b1c2-4b25-bf0e-0df3aebf97cc",
   "metadata": {},
   "outputs": [],
   "source": [
    "whitespace trim and line breaks"
   ]
  },
  {
   "cell_type": "code",
   "execution_count": 51,
   "id": "ac6bfaed-9930-4237-bfc1-30138b8e6a54",
   "metadata": {},
   "outputs": [
    {
     "name": "stdout",
     "output_type": "stream",
     "text": [
      "I have learned Below languages: \n",
      "HTML\n",
      "CSS\n",
      "Python\n",
      "PHP\n"
     ]
    }
   ],
   "source": [
    "Languages = \"\\nHTML\\nCSS\\nPython\\nPHP\"\n",
    "NewMessage = f\"I have learned Below languages: {Languages}\"\n",
    "print(NewMessage)"
   ]
  },
  {
   "cell_type": "code",
   "execution_count": 53,
   "id": "84b04f36-02af-4a6f-8c19-93f9ff543c89",
   "metadata": {},
   "outputs": [
    {
     "name": "stdout",
     "output_type": "stream",
     "text": [
      "The Zen of Python, by Tim Peters\n",
      "\n",
      "Beautiful is better than ugly.\n",
      "Explicit is better than implicit.\n",
      "Simple is better than complex.\n",
      "Complex is better than complicated.\n",
      "Flat is better than nested.\n",
      "Sparse is better than dense.\n",
      "Readability counts.\n",
      "Special cases aren't special enough to break the rules.\n",
      "Although practicality beats purity.\n",
      "Errors should never pass silently.\n",
      "Unless explicitly silenced.\n",
      "In the face of ambiguity, refuse the temptation to guess.\n",
      "There should be one-- and preferably only one --obvious way to do it.\n",
      "Although that way may not be obvious at first unless you're Dutch.\n",
      "Now is better than never.\n",
      "Although never is often better than *right* now.\n",
      "If the implementation is hard to explain, it's a bad idea.\n",
      "If the implementation is easy to explain, it may be a good idea.\n",
      "Namespaces are one honking great idea -- let's do more of those!\n"
     ]
    }
   ],
   "source": [
    "import this"
   ]
  },
  {
   "cell_type": "code",
   "execution_count": null,
   "id": "7cfc9f51-1912-40a9-82f8-498b6ed19c7d",
   "metadata": {},
   "outputs": [],
   "source": [
    "Trim the spaces in Python"
   ]
  },
  {
   "cell_type": "code",
   "execution_count": 81,
   "id": "a687f382-0484-4b92-a95a-720ea3901308",
   "metadata": {},
   "outputs": [
    {
     "name": "stdout",
     "output_type": "stream",
     "text": [
      "Hidayath\n"
     ]
    }
   ],
   "source": [
    "name = \"Hidayath \"\n",
    "name2 = \"ulla \"\n",
    "print(name.rstrip())"
   ]
  },
  {
   "cell_type": "code",
   "execution_count": null,
   "id": "ea776b0c-585d-41a5-894c-b87cfd83ec77",
   "metadata": {},
   "outputs": [],
   "source": []
  },
  {
   "cell_type": "code",
   "execution_count": null,
   "id": "baa06066-a19a-4449-b678-24a51eed5cb3",
   "metadata": {},
   "outputs": [],
   "source": []
  },
  {
   "cell_type": "code",
   "execution_count": null,
   "id": "dda40cb6-1ee8-4378-acff-ffd0610a4d92",
   "metadata": {},
   "outputs": [],
   "source": []
  },
  {
   "cell_type": "code",
   "execution_count": null,
   "id": "53980a89-e655-411a-ac32-9a6a5f1372c4",
   "metadata": {},
   "outputs": [],
   "source": []
  },
  {
   "cell_type": "code",
   "execution_count": null,
   "id": "720b6568-9bc4-4f6d-8e8a-48e175307079",
   "metadata": {},
   "outputs": [],
   "source": []
  },
  {
   "cell_type": "code",
   "execution_count": null,
   "id": "f677adc8-da76-4d52-bd2f-ea0b94c89a6b",
   "metadata": {},
   "outputs": [],
   "source": []
  },
  {
   "cell_type": "code",
   "execution_count": null,
   "id": "0c85d338-ba71-4a3a-a659-d140dc536d58",
   "metadata": {},
   "outputs": [],
   "source": []
  },
  {
   "cell_type": "code",
   "execution_count": null,
   "id": "f3c7bd55-cf5c-42af-976a-ceaeb4a1c825",
   "metadata": {},
   "outputs": [],
   "source": []
  },
  {
   "cell_type": "code",
   "execution_count": null,
   "id": "b89d7cae-20f5-4080-a82a-61600db61c9b",
   "metadata": {},
   "outputs": [],
   "source": []
  },
  {
   "cell_type": "code",
   "execution_count": null,
   "id": "72dbed54-5dc4-4ca0-b9a4-8370cb6d1c38",
   "metadata": {},
   "outputs": [],
   "source": []
  }
 ],
 "metadata": {
  "kernelspec": {
   "display_name": "Python 3 (ipykernel)",
   "language": "python",
   "name": "python3"
  },
  "language_info": {
   "codemirror_mode": {
    "name": "ipython",
    "version": 3
   },
   "file_extension": ".py",
   "mimetype": "text/x-python",
   "name": "python",
   "nbconvert_exporter": "python",
   "pygments_lexer": "ipython3",
   "version": "3.12.4"
  }
 },
 "nbformat": 4,
 "nbformat_minor": 5
}
